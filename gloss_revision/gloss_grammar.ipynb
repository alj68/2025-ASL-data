{
 "cells": [
  {
   "cell_type": "code",
   "execution_count": 1,
   "id": "7cf52391",
   "metadata": {},
   "outputs": [],
   "source": [
    "import re\n",
    "from typing import Pattern\n",
    "from dataclasses import dataclass"
   ]
  },
  {
   "cell_type": "code",
   "execution_count": 2,
   "id": "4ef2fce5",
   "metadata": {},
   "outputs": [],
   "source": [
    "number_regexp =  r\"\"\"(?x)                   # a number contains:\n",
    "                   [0-9]+                   #   one or more digits  \n",
    "                   (?: \\.[0-9]+ )?          #   optionally followed by decimal dot and more digits\n",
    "                   s?                       #   optionally followed by 's' (e.g. \"1990s\")\n",
    "                 \"\"\"\n",
    "alpha_regexp =   r\"\"\"(?x)                   # an alphanumeric word:\n",
    "                   (?!                      #   never has index sign prefixes of the form:\n",
    "                     (?: THUMB- )?          #     THUMB-IX-/THUMB-POSS-/THUMB-SELF-\n",
    "                     (?:                    #   or of the form\n",
    "                         IX- |              #     IX-\n",
    "                         POSS- |            #     POSS-\n",
    "                         SELF-              #     SELF-\n",
    "                     )  \n",
    "                   )                        # and contains:\n",
    "                   [A-Z0-9]                 #   one uppercase letter or digit\n",
    "                   (?:                      #   optionally followed by:\n",
    "                     [A-Z0-9'-]*            #     more uppercase letters and digits, and punctuation characters,\n",
    "                     [A-Z0-9]               #     where the last character may not be punctuation\n",
    "                   )?\n",
    "                   (?:                      # and is optionally followed by:\n",
    "                     \\.                     #   a trailing . (e.g., ETC.)\n",
    "                   |                        # or\n",
    "                     :[0-9]                 #   a trailing colon and digit (e.g. COUNT-ON-FINGERS:2)\n",
    "                   )?\n",
    "                 \"\"\"\n",
    "lookahead_regexp = r\"\"\"(?x)                 # a word may not be followed by:\n",
    "                   (?:\n",
    "                     (?! [a-z] )            #   any lowercase letters (to prevent e.g. AGE-1p from matching as AGE-1),              \n",
    "                   |                        # with the exception of:\n",
    "                     (?= wg )               #   wg, describing a wiggle sign (e.g., MOTHERwg)\n",
    "                   )\n",
    "                 \"\"\"\n",
    "word_all_regexp = r\"\"\"(?x)                  # all put together, a word may be:\n",
    "                   (?: %s | %s )            #   either a number or an alphanumeric word,\n",
    "                   %s                       #   not followed by lowercase letters, except for wg\n",
    "                 \"\"\"    % (number_regexp, alpha_regexp, lookahead_regexp)"
   ]
  },
  {
   "cell_type": "code",
   "execution_count": 3,
   "id": "4584dd26",
   "metadata": {},
   "outputs": [],
   "source": [
    "@dataclass\n",
    "class RegexRule:\n",
    "    \"\"\"\n",
    "    Guarantees that any combination is a valid Regex gloss morpheme.\n",
    "    \"\"\"\n",
    "    name: str\n",
    "    pattern: str\n",
    "    flags: int = re.X\n",
    "\n",
    "    def __post_init__(self):\n",
    "        self._re = re.compile(self.pattern, self.flags)\n",
    "\n",
    "    def __or__(self, rule: \"RegexRule\") -> \"RegexRule\":\n",
    "        \"\"\"Allow only number|alpha, not arbitrary unions.\"\"\"\n",
    "        allowed = {(\"number\",\"alpha\"), (\"alpha\",\"number\")}\n",
    "        if (self.name, rule.name) not in allowed:\n",
    "            raise ValueError(f\"Cannot `or` {self.name} with {rule.name}\")\n",
    "        pat = f\"(?:{self.pattern}|{rule.pattern})\"\n",
    "        return RegexRule(f\"{self.name}|{rule.name}\", pat, self.flags)\n",
    "\n",
    "    def then(self, rule: \"RegexRule\") -> \"RegexRule\":\n",
    "        \"\"\"Regular concatenation—but only allow number/alpha → lookahead.\"\"\"\n",
    "        if rule.name != \"lookahead\":\n",
    "            raise ValueError(f\"{self.name} can only be followed by lookahead, not {rule.name}\")\n",
    "        pat = f\"{self.pattern}{rule.pattern}\"\n",
    "        return RegexRule(f\"{self.name}+{rule.name}\", pat, self.flags)\n",
    "\n",
    "    def compile(self) -> Pattern:\n",
    "        return self._re"
   ]
  },
  {
   "cell_type": "code",
   "execution_count": 4,
   "id": "28e589c4",
   "metadata": {},
   "outputs": [
    {
     "name": "stderr",
     "output_type": "stream",
     "text": [
      "C:\\Users\\Panoptic System\\AppData\\Local\\Temp\\ipykernel_4836\\2758843948.py:11: DeprecationWarning: Flags not at the start of the expression '(?:(?x)             ' (truncated) but at position 3\n",
      "  self._re = re.compile(self.pattern, self.flags)\n",
      "C:\\Users\\Panoptic System\\AppData\\Local\\Temp\\ipykernel_4836\\2758843948.py:11: DeprecationWarning: Flags not at the start of the expression '(?:(?x)             ' (truncated) but at position 323\n",
      "  self._re = re.compile(self.pattern, self.flags)\n",
      "C:\\Users\\Panoptic System\\AppData\\Local\\Temp\\ipykernel_4836\\2758843948.py:11: DeprecationWarning: Flags not at the start of the expression '(?:(?x)             ' (truncated) but at position 1583\n",
      "  self._re = re.compile(self.pattern, self.flags)\n"
     ]
    }
   ],
   "source": [
    "number   = RegexRule(\"number\",    number_regexp)\n",
    "alpha    = RegexRule(\"alpha\",     alpha_regexp)\n",
    "lookahead = RegexRule(\"lookahead\", lookahead_regexp)\n",
    "\n",
    "word = (number | alpha).then(lookahead)"
   ]
  }
 ],
 "metadata": {
  "kernelspec": {
   "display_name": "tfenv",
   "language": "python",
   "name": "python3"
  },
  "language_info": {
   "codemirror_mode": {
    "name": "ipython",
    "version": 3
   },
   "file_extension": ".py",
   "mimetype": "text/x-python",
   "name": "python",
   "nbconvert_exporter": "python",
   "pygments_lexer": "ipython3",
   "version": "3.10.18"
  }
 },
 "nbformat": 4,
 "nbformat_minor": 5
}
