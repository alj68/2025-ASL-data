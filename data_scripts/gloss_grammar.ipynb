{
 "cells": [
  {
   "cell_type": "code",
   "execution_count": null,
   "id": "7cf52391",
   "metadata": {},
   "outputs": [],
   "source": [
    "import re\n",
    "from typing import Pattern\n",
    "from dataclasses import dataclass\n",
    "import pyparsing as pp\n",
    "pp.ParserElement.enable_Packrat()"
   ]
  },
  {
   "cell_type": "code",
   "execution_count": null,
   "id": "4ef2fce5",
   "metadata": {},
   "outputs": [],
   "source": [
    "number_regexp =  r\"\"\"(?x)                   # a number contains:\n",
    "                   [0-9]+                   #   one or more digits  \n",
    "                   (?: \\.[0-9]+ )?          #   optionally followed by decimal dot and more digits\n",
    "                   s?                       #   optionally followed by 's' (e.g. \"1990s\")\n",
    "                 \"\"\"\n",
    "alpha_regexp =   r\"\"\"(?x)                   # an alphanumeric word:\n",
    "                   (?!                      #   never has index sign prefixes of the form:\n",
    "                     (?: THUMB- )?          #     THUMB-IX-/THUMB-POSS-/THUMB-SELF-\n",
    "                     (?:                    #   or of the form\n",
    "                         IX- |              #     IX-\n",
    "                         POSS- |            #     POSS-\n",
    "                         SELF-              #     SELF-\n",
    "                     )  \n",
    "                   )                        # and contains:\n",
    "                   [A-Z0-9]                 #   one uppercase letter or digit\n",
    "                   (?:                      #   optionally followed by:\n",
    "                     [A-Z0-9'-]*            #     more uppercase letters and digits, and punctuation characters,\n",
    "                     [A-Z0-9]               #     where the last character may not be punctuation\n",
    "                   )?\n",
    "                   (?:                      # and is optionally followed by:\n",
    "                     \\.                     #   a trailing . (e.g., ETC.)\n",
    "                   |                        # or\n",
    "                     :[0-9]                 #   a trailing colon and digit (e.g. COUNT-ON-FINGERS:2)\n",
    "                   )?\n",
    "                 \"\"\"\n",
    "lookahead_regexp = r\"\"\"(?x)                 # a word may not be followed by:\n",
    "                   (?:\n",
    "                     (?! [a-z] )            #   any lowercase letters (to prevent e.g. AGE-1p from matching as AGE-1),              \n",
    "                   |                        # with the exception of:\n",
    "                     (?= wg )               #   wg, describing a wiggle sign (e.g., MOTHERwg)\n",
    "                   )\n",
    "                 \"\"\"\n",
    "word_all_regexp = r\"\"\"(?x)                  # all put together, a word may be:\n",
    "                   (?: %s | %s )            #   either a number or an alphanumeric word,\n",
    "                   %s                       #   not followed by lowercase letters, except for wg\n",
    "                 \"\"\"    % (number_regexp, alpha_regexp, lookahead_regexp)"
   ]
  },
  {
   "cell_type": "code",
   "execution_count": null,
   "id": "56cd9e09",
   "metadata": {},
   "outputs": [],
   "source": [
    "word = pp.Regex(word_all_regexp)\n",
    "cl_prefix = pp.one_of([\"CL\", \"DCL\", \"LCL\", \"SCL\", \"BCL\", \"BPCL\", \"PCL\", \"ICL\"], as_keyword = True)\n",
    "ns_prefix = pp.Keyword(\"ns-\")\n",
    "fs_prefix = pp.Keyword(\"fs-\")\n",
    "lex_exceptions = pp.one_of([\"part\", \"'WHAT'\"], as_keyword = True)\n",
    "aspect_text = pp.Keyword(\"aspect\")\n",
    "index_core_ix = pp.Keyword(\"IX\")\n",
    "other_index_core = pp.one_of([\"POSS\", \"SELF\"], as_keyword = True)\n",
    "person = pp.Regex(r\"[0-9]p\")\n",
    "mwe_indic = pp.Keyword(\"-\")\n",
    "arc = pp.Keyword(\"-arc\")\n",
    "loc = pp.Keyword(\"-loc\")\n",
    "compound = pp.Keyword(\"+\")\n",
    "choice = pp.Keyword(\"/\")\n",
    "contraction = pp.Keyword(\"^\")"
   ]
  },
  {
   "cell_type": "code",
   "execution_count": null,
   "id": "17135c64",
   "metadata": {},
   "outputs": [],
   "source": [
    "WORD_BASE = word & (mwe_indic & word)\n",
    "FS = fs_prefix & WORD_BASE > \"FingerSpell\"\n",
    "NS = ns_prefix & WORD_BASE > \"NameSign\"\n",
    "LEXICAL = lex_exceptions | WORD_BASE\n",
    "SIGN_CORE = NS | FS | LEXICAL\n",
    "CONTRACTION_UNIT = contraction + SIGN_CORE\n",
    "SIGN_UNIT = SIGN_CORE + pp.Optional(CONTRACTION_UNIT)\n",
    "COMPOUND = compound + SIGN_UNIT\n",
    "CHOICE = SIGN_UNIT + choice + SIGN_UNIT\n",
    "CLASSIFIER = cl_prefix\n",
    "INDEX = (index_core_ix | other_index_core) + \"-\" + person\n",
    "INDEX_LOC_NUC = INDEX + loc\n",
    "INDEX_LOC = arc\n",
    "\n",
    "ALLSIGNS = (CLASSIFIER | INDEX_LOC | INDEX | COMPOUND | CHOICE | SIGN_UNIT | CONTRACTION_UNIT) + pp.StringEnd()\n"
   ]
  },
  {
   "cell_type": "code",
   "execution_count": null,
   "id": "ee350281",
   "metadata": {},
   "outputs": [],
   "source": [
    "@dataclass\n",
    "class GlossExpressions:\n",
    "    \"\"\"A collection of valid expressions used in gloss conventions.\"\"\"\n",
    "    \n",
    "    number: Pattern[str] = re.compile(number_regexp, re.X)\n",
    "    alpha: Pattern[str] = re.compile(alpha_regexp, re.X)\n",
    "    lookahead: Pattern[str] = re.compile(lookahead_regexp, re.X)\n",
    "    word_all: Pattern[str] = re.compile(word_all_regexp, re.X)\n"
   ]
  },
  {
   "cell_type": "code",
   "execution_count": null,
   "id": "4584dd26",
   "metadata": {},
   "outputs": [],
   "source": [
    "@dataclass\n",
    "class RegexRule:\n",
    "    # Guarantees that any combination is a valid Regex gloss morpheme.\n",
    "    name: str\n",
    "    pattern: str\n",
    "    flags: int = re.X\n",
    "\n",
    "    def __post_init__(self):\n",
    "        self._re = re.compile(self.pattern, self.flags)\n",
    "        \n",
    "    @classmethod\n",
    "\n",
    "    def __or__(self, rule: \"RegexRule\") -> \"RegexRule\":\n",
    "        \"\"\"Allow only number|alpha, not arbitrary unions.\"\"\"\n",
    "        allowed = {(\"number\",\"alpha\"), (\"alpha\",\"number\")}\n",
    "        if (self.name, rule.name) not in allowed:\n",
    "            raise ValueError(f\"Cannot `or` {self.name} with {rule.name}\")\n",
    "        pat = f\"(?:{self.pattern}|{rule.pattern})\"\n",
    "        return RegexRule(f\"{self.name}|{rule.name}\", pat, self.flags)\n",
    "\n",
    "    def then(self, rule: \"RegexRule\") -> \"RegexRule\":\n",
    "        \"\"\"Regular concatenation—but only allow number/alpha → lookahead.\"\"\"\n",
    "        if rule.name != \"lookahead\":\n",
    "            raise ValueError(f\"{self.name} can only be followed by lookahead, not {rule.name}\")\n",
    "        pat = f\"{self.pattern}{rule.pattern}\"\n",
    "        return RegexRule(f\"{self.name}+{rule.name}\", pat, self.flags)\n",
    "\n",
    "    def compile(self) -> Pattern:\n",
    "        return self._re"
   ]
  }
 ],
 "metadata": {
  "kernelspec": {
   "display_name": "seq2seq",
   "language": "python",
   "name": "python3"
  },
  "language_info": {
   "codemirror_mode": {
    "name": "ipython",
    "version": 3
   },
   "file_extension": ".py",
   "mimetype": "text/x-python",
   "name": "python",
   "nbconvert_exporter": "python",
   "pygments_lexer": "ipython3",
   "version": "3.12.11"
  }
 },
 "nbformat": 4,
 "nbformat_minor": 5
}
